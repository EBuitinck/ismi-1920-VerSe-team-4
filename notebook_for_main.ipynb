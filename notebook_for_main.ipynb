{
 "cells": [
  {
   "cell_type": "code",
   "execution_count": null,
   "metadata": {},
   "outputs": [],
   "source": [
    "# Install a pip package via the current Jupyter kernel\n",
    "import sys\n",
    "!{sys.executable} -m pip install matplotlib\n",
    "!{sys.executable} -m pip install SimpleITK\n",
    "!{sys.executable} -m pip install numpy #==1.16.4 #to prevent error: ModuleNotFoundErrot: No module named 'numpy.testing.decorators\n",
    "!{sys.executable} -m pip install scikit-image\n",
    "!{sys.executable} -m pip install sklearn\n",
    "!{sys.executable} -m pip install tqdm\n",
    "!{sys.executable} -m pip install keras_tqdm\n",
    "!{sys.executable} -m pip install tensorflow"
   ]
  },
  {
   "cell_type": "code",
   "execution_count": null,
   "metadata": {},
   "outputs": [],
   "source": [
    "from datetime import datetime\n",
    "\n",
    "from src.models.train_model import train_u_net\n",
    "from src.data.data_loader import VerseDataset"
   ]
  },
  {
   "cell_type": "code",
   "execution_count": null,
   "metadata": {},
   "outputs": [],
   "source": [
    "BASE_PATH_NORMALIZED = 'data/processed/normalized-images'\n",
    "\n",
    "# generate training and validation data\n",
    "verse_dataset = VerseDataset(base_path=BASE_PATH_NORMALIZED, shape=(128, 64, 64), seed=2020, split=0.8)"
   ]
  },
  {
   "cell_type": "code",
   "execution_count": null,
   "metadata": {},
   "outputs": [],
   "source": [
    "batch_size = 1\n",
    "epochs = 3\n",
    "steps_per_epoch = 2"
   ]
  },
  {
   "cell_type": "code",
   "execution_count": null,
   "metadata": {},
   "outputs": [],
   "source": [
    "training_dataset = verse_dataset.get_dataset('train').batch(batch_size)\n",
    "validation_dataset = verse_dataset.get_dataset('validation').batch(batch_size)\n",
    "\n",
    "train_u_net(training_dataset, validation_dataset, epochs, steps_per_epoch)"
   ]
  },
  {
   "cell_type": "code",
   "execution_count": null,
   "metadata": {},
   "outputs": [],
   "source": []
  },
  {
   "cell_type": "code",
   "execution_count": null,
   "metadata": {},
   "outputs": [],
   "source": []
  },
  {
   "cell_type": "code",
   "execution_count": null,
   "metadata": {},
   "outputs": [],
   "source": []
  }
 ],
 "metadata": {
  "kernelspec": {
   "display_name": "Python 3",
   "language": "python",
   "name": "python3"
  },
  "language_info": {
   "codemirror_mode": {
    "name": "ipython",
    "version": 3
   },
   "file_extension": ".py",
   "mimetype": "text/x-python",
   "name": "python",
   "nbconvert_exporter": "python",
   "pygments_lexer": "ipython3",
   "version": "3.6.3"
  }
 },
 "nbformat": 4,
 "nbformat_minor": 4
}
