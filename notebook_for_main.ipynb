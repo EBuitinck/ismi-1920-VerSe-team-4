{
 "cells": [
  {
   "cell_type": "code",
   "execution_count": null,
   "metadata": {},
   "outputs": [],
   "source": [
    "# Install a pip package in the current Jupyter kernel\n",
    "import sys\n",
    "!{sys.executable} -m pip install matplotlib\n",
    "!{sys.executable} -m pip install SimpleITK\n",
    "!{sys.executable} -m pip install numpy #==1.16.4 #to prevent error: ModuleNotFoundErrot: No module named 'numpy.testing.decorators\n",
    "!{sys.executable} -m pip install scikit-image\n",
    "!{sys.executable} -m pip install sklearn"
   ]
  },
  {
   "cell_type": "code",
   "execution_count": 1,
   "metadata": {},
   "outputs": [],
   "source": [
    "from src.data.data_loader import generate_train_validation_test_split, get_dataset_from_generator, \\\n",
    "    testing_data_generator, validation_data_generator, training_data_generator\n",
    "from datetime import datetime\n",
    "\n",
    "from src.models.train_model import train_u_net"
   ]
  },
  {
   "cell_type": "code",
   "execution_count": null,
   "metadata": {},
   "outputs": [],
   "source": [
    "generate_train_validation_test_split(2020, 0.8)"
   ]
  },
  {
   "cell_type": "code",
   "execution_count": 2,
   "metadata": {},
   "outputs": [
    {
     "name": "stdout",
     "output_type": "stream",
     "text": [
      "WARNING:tensorflow:From /home/ccurs004/.local/lib/python3.6/site-packages/tensorflow/python/data/ops/dataset_ops.py:505: py_func (from tensorflow.python.ops.script_ops) is deprecated and will be removed in a future version.\n",
      "Instructions for updating:\n",
      "tf.py_func is deprecated in TF V2. Instead, there are two\n",
      "    options available in V2.\n",
      "    - tf.py_function takes a python function which manipulates tf eager\n",
      "    tensors instead of numpy arrays. It's easy to convert a tf eager tensor to\n",
      "    an ndarray (just call tensor.numpy()) but having access to eager tensors\n",
      "    means `tf.py_function`s can use accelerators such as GPUs as well as\n",
      "    being differentiable using a gradient tape.\n",
      "    - tf.numpy_function maintains the semantics of the deprecated tf.py_func\n",
      "    (it is not differentiable, and manipulates numpy arrays). It drops the\n",
      "    stateful argument making all functions stateful.\n",
      "    \n"
     ]
    }
   ],
   "source": [
    "training_dataset = get_dataset_from_generator(training_data_generator)\n",
    "validation_dataset = get_dataset_from_generator(validation_data_generator)\n",
    "testing_dataset = get_dataset_from_generator(testing_data_generator)"
   ]
  },
  {
   "cell_type": "code",
   "execution_count": 3,
   "metadata": {},
   "outputs": [],
   "source": [
    "# call the model\n",
    "training_dataset = training_dataset.batch(4)\n",
    "validation_dataset = validation_dataset.batch(4)"
   ]
  },
  {
   "cell_type": "code",
   "execution_count": 4,
   "metadata": {},
   "outputs": [
    {
     "name": "stdout",
     "output_type": "stream",
     "text": [
      "WARNING:tensorflow:Model failed to serialize as JSON. Ignoring... ('Not JSON Serializable:', b'\\n\\nExpandDims\\x12\\nExpandDims\\x1a\\x07input_1\\x1a\\x0eExpandDims/dim*\\x07\\n\\x01T\\x12\\x020\\x01*\\n\\n\\x04Tdim\\x12\\x020\\x03')\n",
      "Generating heatmaps of vertebraes...\n",
      "Generating heatmaps of vertebra\n",
      "Generating heatmaps of vertebra\n",
      "Generating heatmaps of vertebra\n",
      "Generating heatmaps of vertebra\n",
      "Generating heatmaps of vertebra\n",
      "Generating heatmaps of vertebra\n",
      "Generating heatmaps of vertebra\n",
      "Generating heatmaps of vertebra\n",
      "Generating heatmaps of vertebra\n",
      "Generating heatmaps of vertebra\n",
      "Generating heatmaps of vertebra\n",
      "Generating heatmaps of vertebra\n",
      "Generating heatmaps of vertebra\n",
      "Generating heatmaps of vertebra\n",
      "Generating heatmaps of vertebra\n",
      "Generating heatmaps of vertebra\n",
      "Generating heatmaps of vertebra\n",
      "Generating heatmaps of vertebra\n",
      "Generating heatmaps of vertebra\n",
      "Generating heatmaps of vertebra\n",
      "Generating heatmaps of vertebra\n",
      "Generating heatmaps of vertebra\n",
      "Generating heatmaps of vertebra\n",
      "Generating heatmaps of vertebra\n",
      "Generating heatmaps of vertebra\n",
      "Return 25 heatmaps\n",
      "Generating heatmaps of vertebra\n",
      "Generating heatmaps of vertebra\n",
      "Generating heatmaps of vertebra\n",
      "Generating heatmaps of vertebra\n",
      "Generating heatmaps of vertebra\n",
      "Generating heatmaps of vertebra\n",
      "Generating heatmaps of vertebra\n",
      "Generating heatmaps of vertebra\n",
      "Generating heatmaps of vertebra\n",
      "Generating heatmaps of vertebra\n",
      "Generating heatmaps of vertebra\n",
      "Generating heatmaps of vertebra\n",
      "Generating heatmaps of vertebra\n",
      "Generating heatmaps of vertebra\n",
      "Generating heatmaps of vertebra\n",
      "Generating heatmaps of vertebra\n",
      "Generating heatmaps of vertebra\n",
      "Generating heatmaps of vertebra\n",
      "Generating heatmaps of vertebra\n",
      "Generating heatmaps of vertebra\n",
      "Generating heatmaps of vertebra\n",
      "Generating heatmaps of vertebra\n",
      "Generating heatmaps of vertebra\n",
      "Generating heatmaps of vertebra\n",
      "Generating heatmaps of vertebra\n",
      "Return 25 heatmaps\n",
      "\n",
      "Epoch 00001: val_loss improved from inf to 0.24903, saving model to models/temp/model_01-0.25.h5\n",
      "1/1 [==============================] - 81s 81s/step - loss: 0.3051 - mean_squared_error: 0.3051 - val_loss: 0.2490 - val_mean_squared_error: 0.2490\n"
     ]
    }
   ],
   "source": [
    "train_u_net(training_dataset, validation_dataset, 3)"
   ]
  },
  {
   "cell_type": "code",
   "execution_count": null,
   "metadata": {},
   "outputs": [],
   "source": []
  }
 ],
 "metadata": {
  "kernelspec": {
   "display_name": "Python 3",
   "language": "python",
   "name": "python3"
  },
  "language_info": {
   "codemirror_mode": {
    "name": "ipython",
    "version": 3
   },
   "file_extension": ".py",
   "mimetype": "text/x-python",
   "name": "python",
   "nbconvert_exporter": "python",
   "pygments_lexer": "ipython3",
   "version": "3.6.3"
  }
 },
 "nbformat": 4,
 "nbformat_minor": 4
}
